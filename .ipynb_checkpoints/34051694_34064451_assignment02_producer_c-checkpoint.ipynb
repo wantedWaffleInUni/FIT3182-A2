{
 "cells": [
  {
   "cell_type": "code",
<<<<<<< HEAD
   "execution_count": 1,
=======
   "execution_count": null,
>>>>>>> 4111319051c8d63b1e58679bd51dcfd185745134
   "id": "2cce9c40",
   "metadata": {},
   "outputs": [],
   "source": [
    "from time import sleep\n",
    "from json import dumps\n",
    "from kafka3 import KafkaProducer\n",
    "import csv\n",
    "import datetime as dt"
   ]
  },
  {
   "cell_type": "code",
<<<<<<< HEAD
   "execution_count": 2,
=======
   "execution_count": null,
>>>>>>> 4111319051c8d63b1e58679bd51dcfd185745134
   "id": "f84a9fdb",
   "metadata": {},
   "outputs": [],
   "source": [
    "# school\n",
    "# hostip = \"10.192.40.238\"\n",
<<<<<<< HEAD
    "hostip = \"10.192.13.255\"\n",
=======
    "# hostip = \"10.192.13.255\"\n",
>>>>>>> 4111319051c8d63b1e58679bd51dcfd185745134
    "\n",
    "# home\n",
    "# hostip = \"192.168.0.88\"\n",
    "# hostip = \"192.168.0.160\"\n",
    "# \n",
    "# hostip = \"10.192.12.188\"\n",
<<<<<<< HEAD
    "# hostip = \"10.192.41.222\"\n",
=======
    "hostip = \"10.192.41.222\"\n",
>>>>>>> 4111319051c8d63b1e58679bd51dcfd185745134
    "\n",
    "# hostip = \"192.168.0.21\"\n",
    "\n",
    "\n",
    "topic = 'ProducerC'\n",
<<<<<<< HEAD
    "file_path = 'data/camera_event_C.csv' \n",
    "\n",
    "#yl laptop\n",
    "# file_path = 'A2/data/camera_event_C.csv' \n",
=======
    "file_path = 'FIT3182-A2/data/camera_event_C.csv' \n",
    "\n",
    "#yl laptop\n",
    "file_path = 'data/camera_event_C.csv' \n",
    "\n",
>>>>>>> 4111319051c8d63b1e58679bd51dcfd185745134
    "\n",
    "\n",
    "\n",
    "def publish_message(producer_instance, topic_name, key, data):\n",
    "    try:\n",
    "        key_bytes = bytes(key, encoding='utf-8')\n",
    "        value_bytes = bytes(data, encoding='utf-8')\n",
    "        producer_instance.send(topic_name, key=key_bytes, value=value_bytes)\n",
    "        print('Message published successfully. ' + str(data))\n",
    "    except Exception as ex:\n",
    "        print('Exception in publishing message.')\n",
    "        print(str(ex))\n",
    "        \n",
    "        "
   ]
  },
  {
   "cell_type": "code",
<<<<<<< HEAD
   "execution_count": 3,
=======
   "execution_count": null,
>>>>>>> 4111319051c8d63b1e58679bd51dcfd185745134
   "id": "bfcc97fd",
   "metadata": {},
   "outputs": [],
   "source": [
    "def connect_kafka_producer():\n",
    "    _producer = None\n",
    "    try:\n",
    "        _producer = KafkaProducer(bootstrap_servers=[f'{hostip}:9092'],\n",
    "                                  api_version=(0, 10))\n",
    "    except Exception as ex:\n",
    "        print('Exception while connecting Kafka.')\n",
    "        print(str(ex))\n",
    "    finally:\n",
    "        return _producer\n",
    "    "
   ]
  },
  {
   "cell_type": "code",
   "execution_count": null,
   "id": "c30a22d6",
   "metadata": {},
<<<<<<< HEAD
   "outputs": [
    {
     "name": "stdout",
     "output_type": "stream",
     "text": [
      "Publishing records..\n",
      "Message published successfully. {\"event_id\": \"d86e8cdb-c387-4ccb-b35a-346302238824\", \"car_plate\": \"UTT 229\", \"camera_id\": 3, \"timestamp\": \"2024-01-01T08:00:54.958092\", \"speed_reading\": 130.8, \"producer\": \"C\"}\n",
      "Batch 1 published successfully.\n",
      "Message published successfully. {\"event_id\": \"f804c4e8-022d-4243-b43e-9ec0860ce6ff\", \"car_plate\": \"CJW 924\", \"camera_id\": 3, \"timestamp\": \"2024-01-01T08:00:47.168827\", \"speed_reading\": 164.5, \"producer\": \"C\"}\n",
      "Batch 2 published successfully.\n",
      "Message published successfully. {\"event_id\": \"a246b391-fb7c-44a3-8f8b-ddf40bba3d05\", \"car_plate\": \"WA 0712\", \"camera_id\": 3, \"timestamp\": \"2024-01-01T08:00:53.815270\", \"speed_reading\": 134.4, \"producer\": \"C\"}\n",
      "Message published successfully. {\"event_id\": \"e0dae388-6036-4b7d-ba58-bed0808c1611\", \"car_plate\": \"KZE 5\", \"camera_id\": 3, \"timestamp\": \"2024-01-01T08:00:57.613888\", \"speed_reading\": 125.3, \"producer\": \"C\"}\n",
      "Batch 3 published successfully.\n",
      "Message published successfully. {\"event_id\": \"55a60e1c-818e-4e55-bc02-0627765629b2\", \"car_plate\": \"ICE 8\", \"camera_id\": 3, \"timestamp\": \"2024-01-01T08:01:16.405088\", \"speed_reading\": 108.0, \"producer\": \"C\"}\n",
      "Message published successfully. {\"event_id\": \"daafd000-91fa-4ff7-a9bf-896ee74b35ad\", \"car_plate\": \"WC 89\", \"camera_id\": 3, \"timestamp\": \"2024-01-01T08:01:18.835653\", \"speed_reading\": 94.5, \"producer\": \"C\"}\n",
      "Batch 4 published successfully.\n",
      "Message published successfully. {\"event_id\": \"8d6827a6-5ca3-49ac-8d67-f01b64a31c4f\", \"car_plate\": \"KRN 7\", \"camera_id\": 3, \"timestamp\": \"2024-01-01T08:01:42.077427\", \"speed_reading\": 76.2, \"producer\": \"C\"}\n",
      "Batch 5 published successfully.\n",
      "Message published successfully. {\"event_id\": \"052e725b-3098-4f7d-9670-ebcdf30f022c\", \"car_plate\": \"QE 1820\", \"camera_id\": 3, \"timestamp\": \"2024-01-01T08:01:50.367291\", \"speed_reading\": 65.6, \"producer\": \"C\"}\n",
      "Batch 6 published successfully.\n",
      "Message published successfully. {\"event_id\": \"cc084bd6-f680-43cf-9d6e-15bc481038b2\", \"car_plate\": \"PKH 8115\", \"camera_id\": 3, \"timestamp\": \"2024-01-01T08:08:52.583094\", \"speed_reading\": 153.8, \"producer\": \"C\"}\n",
      "Message published successfully. {\"event_id\": \"676fa9f2-4a5b-4d1b-a63e-a59b1f2e5c26\", \"car_plate\": \"PI 9\", \"camera_id\": 3, \"timestamp\": \"2024-01-01T08:08:53.620450\", \"speed_reading\": 134.3, \"producer\": \"C\"}\n",
      "Batch 7 published successfully.\n",
      "Message published successfully. {\"event_id\": \"3f49174b-d0fe-4dd6-8cca-cab50d37a21f\", \"car_plate\": \"EZ 6277\", \"camera_id\": 3, \"timestamp\": \"2024-01-01T08:09:18.931021\", \"speed_reading\": 89.8, \"producer\": \"C\"}\n",
      "Batch 8 published successfully.\n",
      "Message published successfully. {\"event_id\": \"65cf39ff-73dc-4873-9a4d-aa0626848af9\", \"car_plate\": \"KV 17\", \"camera_id\": 3, \"timestamp\": \"2024-01-01T08:09:25.802177\", \"speed_reading\": 86.0, \"producer\": \"C\"}\n",
      "Message published successfully. {\"event_id\": \"94fd563d-0df1-4b35-a89c-db72f3874b30\", \"car_plate\": \"QJ 53\", \"camera_id\": 3, \"timestamp\": \"2024-01-01T08:09:29.843998\", \"speed_reading\": 82.6, \"producer\": \"C\"}\n",
      "Batch 9 published successfully.\n",
      "Message published successfully. {\"event_id\": \"2f38e970-5042-4d91-8ef3-f8e4bed9908f\", \"car_plate\": \"CZ 592\", \"camera_id\": 3, \"timestamp\": \"2024-01-01T08:00:47.453301\", \"speed_reading\": 161.4, \"producer\": \"C\"}\n",
      "Message published successfully. {\"event_id\": \"fa9e3b2a-de4e-48be-b97b-1c01e95e437a\", \"car_plate\": \"AH 8\", \"camera_id\": 3, \"timestamp\": \"2024-01-01T08:00:49.247531\", \"speed_reading\": 165.5, \"producer\": \"C\"}\n",
      "Batch 10 published successfully.\n",
      "Message published successfully. {\"event_id\": \"9a22f424-6c61-4e38-ad58-40c4bde9dfea\", \"car_plate\": \"FZ 766\", \"camera_id\": 3, \"timestamp\": \"2024-01-01T08:01:00.555089\", \"speed_reading\": 143.2, \"producer\": \"C\"}\n",
      "Batch 11 published successfully.\n",
      "Message published successfully. {\"event_id\": \"033183dc-45d4-4cab-98cf-a4f05088c76b\", \"car_plate\": \"ZPG 90\", \"camera_id\": 3, \"timestamp\": \"2024-01-01T08:01:16.062056\", \"speed_reading\": 101.4, \"producer\": \"C\"}\n",
      "Batch 12 published successfully.\n",
      "Message published successfully. {\"event_id\": \"49500aa0-39b9-4dc2-8e4d-69c8519b5983\", \"car_plate\": \"JEJ 6\", \"camera_id\": 3, \"timestamp\": \"2024-01-01T08:09:06.369311\", \"speed_reading\": 109.3, \"producer\": \"C\"}\n",
      "Batch 13 published successfully.\n",
      "Message published successfully. {\"event_id\": \"dfc12ef9-a6d4-48ab-8dab-47eae3e90e1c\", \"car_plate\": \"IFY 23\", \"camera_id\": 3, \"timestamp\": \"2024-01-01T08:09:12.383098\", \"speed_reading\": 115.7, \"producer\": \"C\"}\n",
      "Batch 14 published successfully.\n",
      "Message published successfully. {\"event_id\": \"645454f9-4d9e-4cc9-accc-7048fe7c010a\", \"car_plate\": \"YRV 3\", \"camera_id\": 3, \"timestamp\": \"2024-01-01T08:09:53.655566\", \"speed_reading\": 65.3, \"producer\": \"C\"}\n",
      "Batch 15 published successfully.\n",
      "Message published successfully. {\"event_id\": \"97f44470-dbf6-4c9c-94e9-5fb5b4a9bfb0\", \"car_plate\": \"KWO 421\", \"camera_id\": 3, \"timestamp\": \"2024-01-01T08:14:17.095156\", \"speed_reading\": 118.9, \"producer\": \"C\"}\n",
      "Batch 16 published successfully.\n"
     ]
    }
   ],
=======
   "outputs": [],
>>>>>>> 4111319051c8d63b1e58679bd51dcfd185745134
   "source": [
    "if __name__ == '__main__':\n",
    "    print('Publishing records..')\n",
    "    producer = connect_kafka_producer()\n",
    "\n",
    "    if producer is None:\n",
    "        print('Failed to connect to Kafka. Exiting..')\n",
    "        exit(1)\n",
    "\n",
    "    current_batch = None\n",
    "    batch_events = []\n",
    "\n",
    "    with open(file_path, mode='r') as file:\n",
    "        csv_reader = csv.DictReader(file)\n",
    "        for row in csv_reader:\n",
    "            json_row = dumps(row)\n",
    "            if current_batch is None:\n",
    "                current_batch = row['batch_id']\n",
    "\n",
    "            if current_batch != row['batch_id']:\n",
    "                for event in batch_events:\n",
    "                    message = {\n",
    "                        'event_id': event['event_id'],\n",
    "                        \"car_plate\": event['car_plate'],\n",
    "                        \"camera_id\": int(event['camera_id']),\n",
    "                        \"timestamp\": event['timestamp'],\n",
    "                        \"speed_reading\": float(event['speed_reading']),\n",
    "                        \"producer\": \"C\"\n",
    "                    }\n",
    "                    publish_message(producer, topic, event['event_id'], dumps(message))\n",
    "                producer.flush()\n",
    "                print(f'Batch {current_batch} published successfully.')\n",
    "                sleep(5)\n",
    "\n",
    "                current_batch = row['batch_id']\n",
    "                batch_events = []\n",
    "\n",
    "            batch_events.append(row)\n",
    "\n",
    "        if batch_events:\n",
    "            for event in batch_events:\n",
    "                message = {\n",
    "                    'event_id': event['event_id'],\n",
    "                    \"car_plate\": event['car_plate'],\n",
    "                    \"camera_id\": event['camera_id'],\n",
    "                    \"timestamp\": event['timestamp'],\n",
    "                    \"speed_reading\": float(event['speed_reading']),\n",
    "                    \"producer\": \"C\"\n",
    "                }\n",
    "                publish_message(producer, topic, event['event_id'], dumps(message))\n",
    "            producer.flush()\n",
    "            print(f'Final batch {current_batch} published successfully.')\n",
    "\n",
    "    print('All messages published successfully.')"
   ]
  },
  {
   "cell_type": "code",
   "execution_count": null,
   "id": "56909890",
   "metadata": {},
   "outputs": [],
   "source": []
  }
 ],
 "metadata": {
  "kernelspec": {
   "display_name": "Python 3 (ipykernel)",
   "language": "python",
   "name": "python3"
  },
  "language_info": {
   "codemirror_mode": {
    "name": "ipython",
    "version": 3
   },
   "file_extension": ".py",
   "mimetype": "text/x-python",
   "name": "python",
   "nbconvert_exporter": "python",
   "pygments_lexer": "ipython3",
   "version": "3.10.17"
  }
 },
 "nbformat": 4,
 "nbformat_minor": 5
}
