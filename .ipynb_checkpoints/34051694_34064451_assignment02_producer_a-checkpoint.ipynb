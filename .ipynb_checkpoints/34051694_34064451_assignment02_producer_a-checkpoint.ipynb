{
 "cells": [
  {
   "cell_type": "code",
<<<<<<< HEAD
   "execution_count": 1,
=======
   "execution_count": null,
>>>>>>> 4111319051c8d63b1e58679bd51dcfd185745134
   "id": "50a399a9",
   "metadata": {},
   "outputs": [],
   "source": [
    "from time import sleep\n",
    "from json import dumps\n",
    "from kafka3 import KafkaProducer\n",
    "import csv\n",
    "import datetime as dt"
   ]
  },
  {
   "cell_type": "code",
<<<<<<< HEAD
   "execution_count": 2,
=======
   "execution_count": null,
>>>>>>> 4111319051c8d63b1e58679bd51dcfd185745134
   "id": "8ae2e9ae",
   "metadata": {},
   "outputs": [],
   "source": [
    "# school\n",
    "# hostip = \"10.192.40.238\"\n",
<<<<<<< HEAD
    "hostip = \"10.192.13.255\"\n",
=======
    "# hostip = \"10.192.13.255\"\n",
>>>>>>> 4111319051c8d63b1e58679bd51dcfd185745134
    "\n",
    "# home\n",
    "# hostip = \"192.168.0.88\"\n",
    "# hostip = \"192.168.0.160\"\n",
    "# \n",
    "# hostip = \"10.192.12.188\"\n",
    "# hostip = \"10.192.40.238\"\n",
    "\n",
<<<<<<< HEAD
    "# hostip = \"10.192.41.222\"\n",
=======
    "hostip = \"10.192.41.222\"\n",
>>>>>>> 4111319051c8d63b1e58679bd51dcfd185745134
    "\n",
    "# hostip = \"192.168.0.21\"\n",
    "\n",
    "topic = 'ProducerA'\n",
    "# file_path = 'FIT3182-A2/data/camera_event_A.csv'\n",
<<<<<<< HEAD
    "file_path = 'A2collab/FIT3182-A2/data/camera_event_A.csv'\n",
    "# file_path = './A2/data/camera_event_A.csv' \n",
=======
    "# file_path = 'A2collab/FIT3182-A2/data/camera_event_A.csv'\n",
    "file_path = 'data/camera_event_A.csv' \n",
>>>>>>> 4111319051c8d63b1e58679bd51dcfd185745134
    "\n",
    "\n",
    "\n",
    "\n",
    "def publish_message(producer_instance, topic_name, key, data):\n",
    "    try:\n",
    "        key_bytes = bytes(key, encoding='utf-8')\n",
    "        value_bytes = bytes(data, encoding='utf-8')\n",
    "        producer_instance.send(topic_name, key=key_bytes, value=value_bytes)\n",
    "        print('Message published successfully. ' + str(data))\n",
    "    except Exception as ex:\n",
    "        print('Exception in publishing message.')\n",
    "        print(str(ex))\n",
    "        "
   ]
  },
  {
   "cell_type": "code",
<<<<<<< HEAD
   "execution_count": 3,
=======
   "execution_count": null,
>>>>>>> 4111319051c8d63b1e58679bd51dcfd185745134
   "id": "15df621b",
   "metadata": {},
   "outputs": [],
   "source": [
    "def connect_kafka_producer():\n",
    "    _producer = None\n",
    "    try:\n",
    "        _producer = KafkaProducer(bootstrap_servers=[f'{hostip}:9092'],\n",
    "                                  api_version=(0, 10))\n",
    "    except Exception as ex:\n",
    "        print('Exception while connecting Kafka.')\n",
    "        print(str(ex))\n",
    "    finally:\n",
    "        return _producer"
   ]
  },
  {
   "cell_type": "code",
<<<<<<< HEAD
   "execution_count": 4,
   "id": "53609bca",
   "metadata": {},
   "outputs": [
    {
     "name": "stdout",
     "output_type": "stream",
     "text": [
      "Publishing records..\n"
     ]
    },
    {
     "ename": "FileNotFoundError",
     "evalue": "[Errno 2] No such file or directory: 'A2collab/FIT3182-A2/data/camera_event_A.csv'",
     "output_type": "error",
     "traceback": [
      "\u001b[0;31m---------------------------------------------------------------------------\u001b[0m",
      "\u001b[0;31mFileNotFoundError\u001b[0m                         Traceback (most recent call last)",
      "Cell \u001b[0;32mIn[4], line 12\u001b[0m\n\u001b[1;32m      9\u001b[0m current_batch \u001b[38;5;241m=\u001b[39m \u001b[38;5;28;01mNone\u001b[39;00m\n\u001b[1;32m     10\u001b[0m batch_events \u001b[38;5;241m=\u001b[39m []\n\u001b[0;32m---> 12\u001b[0m \u001b[38;5;28;01mwith\u001b[39;00m \u001b[38;5;28;43mopen\u001b[39;49m\u001b[43m(\u001b[49m\u001b[43mfile_path\u001b[49m\u001b[43m,\u001b[49m\u001b[43m \u001b[49m\u001b[43mmode\u001b[49m\u001b[38;5;241;43m=\u001b[39;49m\u001b[38;5;124;43m'\u001b[39;49m\u001b[38;5;124;43mr\u001b[39;49m\u001b[38;5;124;43m'\u001b[39;49m\u001b[43m)\u001b[49m \u001b[38;5;28;01mas\u001b[39;00m file:\n\u001b[1;32m     13\u001b[0m     csv_reader \u001b[38;5;241m=\u001b[39m csv\u001b[38;5;241m.\u001b[39mDictReader(file)\n\u001b[1;32m     14\u001b[0m     \u001b[38;5;28;01mfor\u001b[39;00m row \u001b[38;5;129;01min\u001b[39;00m csv_reader:\n",
      "File \u001b[0;32m/opt/conda/lib/python3.10/site-packages/IPython/core/interactiveshell.py:324\u001b[0m, in \u001b[0;36m_modified_open\u001b[0;34m(file, *args, **kwargs)\u001b[0m\n\u001b[1;32m    317\u001b[0m \u001b[38;5;28;01mif\u001b[39;00m file \u001b[38;5;129;01min\u001b[39;00m {\u001b[38;5;241m0\u001b[39m, \u001b[38;5;241m1\u001b[39m, \u001b[38;5;241m2\u001b[39m}:\n\u001b[1;32m    318\u001b[0m     \u001b[38;5;28;01mraise\u001b[39;00m \u001b[38;5;167;01mValueError\u001b[39;00m(\n\u001b[1;32m    319\u001b[0m         \u001b[38;5;124mf\u001b[39m\u001b[38;5;124m\"\u001b[39m\u001b[38;5;124mIPython won\u001b[39m\u001b[38;5;124m'\u001b[39m\u001b[38;5;124mt let you open fd=\u001b[39m\u001b[38;5;132;01m{\u001b[39;00mfile\u001b[38;5;132;01m}\u001b[39;00m\u001b[38;5;124m by default \u001b[39m\u001b[38;5;124m\"\u001b[39m\n\u001b[1;32m    320\u001b[0m         \u001b[38;5;124m\"\u001b[39m\u001b[38;5;124mas it is likely to crash IPython. If you know what you are doing, \u001b[39m\u001b[38;5;124m\"\u001b[39m\n\u001b[1;32m    321\u001b[0m         \u001b[38;5;124m\"\u001b[39m\u001b[38;5;124myou can use builtins\u001b[39m\u001b[38;5;124m'\u001b[39m\u001b[38;5;124m open.\u001b[39m\u001b[38;5;124m\"\u001b[39m\n\u001b[1;32m    322\u001b[0m     )\n\u001b[0;32m--> 324\u001b[0m \u001b[38;5;28;01mreturn\u001b[39;00m \u001b[43mio_open\u001b[49m\u001b[43m(\u001b[49m\u001b[43mfile\u001b[49m\u001b[43m,\u001b[49m\u001b[43m \u001b[49m\u001b[38;5;241;43m*\u001b[39;49m\u001b[43margs\u001b[49m\u001b[43m,\u001b[49m\u001b[43m \u001b[49m\u001b[38;5;241;43m*\u001b[39;49m\u001b[38;5;241;43m*\u001b[39;49m\u001b[43mkwargs\u001b[49m\u001b[43m)\u001b[49m\n",
      "\u001b[0;31mFileNotFoundError\u001b[0m: [Errno 2] No such file or directory: 'A2collab/FIT3182-A2/data/camera_event_A.csv'"
     ]
    }
   ],
=======
   "execution_count": null,
   "id": "53609bca",
   "metadata": {},
   "outputs": [],
>>>>>>> 4111319051c8d63b1e58679bd51dcfd185745134
   "source": [
    "if __name__ == '__main__':\n",
    "    print('Publishing records..')\n",
    "    producer = connect_kafka_producer()\n",
    "\n",
    "    if producer is None:\n",
    "        print('Failed to connect to Kafka. Exiting..')\n",
    "        exit(1)\n",
    "\n",
    "    current_batch = None\n",
    "    batch_events = []\n",
    "\n",
    "    with open(file_path, mode='r') as file:\n",
    "        csv_reader = csv.DictReader(file)\n",
    "        for row in csv_reader:\n",
    "            json_row = dumps(row)\n",
    "            if current_batch is None:\n",
    "                current_batch = row['batch_id']\n",
    "\n",
    "            if current_batch != row['batch_id']:\n",
    "                for event in batch_events:\n",
    "                    message = {\n",
    "                        'event_id': event['event_id'],\n",
    "                        \"car_plate\": event['car_plate'],\n",
    "                        \"camera_id\": int(event['camera_id']),\n",
    "                        \"timestamp\": event['timestamp'],\n",
    "                        \"speed_reading\": float(event['speed_reading']),\n",
    "                        \"producer\": \"A\"\n",
    "                    }\n",
    "                    publish_message(producer, topic, event['event_id'], dumps(message))\n",
    "                producer.flush()\n",
    "                print(f'Batch {current_batch} published successfully.')\n",
    "                sleep(5)\n",
    "\n",
    "                current_batch = row['batch_id']\n",
    "                batch_events = []\n",
    "\n",
    "            batch_events.append(row)\n",
    "\n",
    "        if batch_events:\n",
    "            for event in batch_events:\n",
    "                message = {\n",
    "                    'event_id': event['event_id'],\n",
    "                    \"car_plate\": event['car_plate'],\n",
    "                    \"camera_id\": int(event['camera_id']),\n",
    "                    \"timestamp\": event['timestamp'],\n",
    "                    \"speed_reading\": float(event['speed_reading']),\n",
    "                    \"producer\": \"A\"\n",
    "                }\n",
    "                publish_message(producer, topic, event['event_id'], dumps(message))\n",
    "            producer.flush()\n",
    "            print(f'Final batch {current_batch} published successfully.')\n",
    "\n",
    "    print('All messages published successfully.')"
   ]
  },
  {
   "cell_type": "code",
   "execution_count": null,
   "id": "c930f6c9",
   "metadata": {},
   "outputs": [],
   "source": []
  }
 ],
 "metadata": {
  "kernelspec": {
   "display_name": "Python 3 (ipykernel)",
   "language": "python",
   "name": "python3"
  },
  "language_info": {
   "codemirror_mode": {
    "name": "ipython",
    "version": 3
   },
   "file_extension": ".py",
   "mimetype": "text/x-python",
   "name": "python",
   "nbconvert_exporter": "python",
   "pygments_lexer": "ipython3",
   "version": "3.10.17"
  }
 },
 "nbformat": 4,
 "nbformat_minor": 5
}
