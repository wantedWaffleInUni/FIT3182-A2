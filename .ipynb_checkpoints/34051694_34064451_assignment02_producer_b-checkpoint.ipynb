{
 "cells": [
  {
   "cell_type": "code",
   "execution_count": null,
   "id": "93bf83b8",
   "metadata": {},
   "outputs": [],
   "source": [
    "from time import sleep\n",
    "from json import dumps\n",
    "from kafka3 import KafkaProducer\n",
    "import csv\n",
    "import datetime as dt"
   ]
  },
  {
   "cell_type": "code",
   "execution_count": null,
   "id": "d81c212b",
   "metadata": {},
   "outputs": [],
   "source": [
    "# school\n",
    "hostip = \"192.168.0.160\"\n",
    "\n",
    "topic = \"ProducerB\"\n",
    "\n",
    "file_path = \"data/camera_event_B.csv\"\n",
    "\n",
    "\n",
    "def publish_message(producer_instance, topic_name, key, data):\n",
    "    try:\n",
    "        key_bytes = bytes(key, encoding=\"utf-8\")\n",
    "        value_bytes = bytes(data, encoding=\"utf-8\")\n",
    "        producer_instance.send(topic_name, key=key_bytes, value=value_bytes)\n",
    "        print(\"Message published successfully. \" + str(data))\n",
    "    except Exception as ex:\n",
    "        print(\"Exception in publishing message.\")\n",
    "        print(str(ex))\n"
   ]
  },
  {
   "cell_type": "code",
   "execution_count": null,
   "id": "a4a81d66",
   "metadata": {},
   "outputs": [],
   "source": [
    "def connect_kafka_producer():\n",
    "    _producer = None\n",
    "    try:\n",
    "        _producer = KafkaProducer(bootstrap_servers=[f'{hostip}:9092'],\n",
    "                                  api_version=(0, 10))\n",
    "    except Exception as ex:\n",
    "        print('Exception while connecting Kafka.')\n",
    "        print(str(ex))\n",
    "    finally:\n",
    "        return _producer\n",
    "    "
   ]
  },
  {
   "cell_type": "code",
   "execution_count": null,
   "id": "6abc93d7",
   "metadata": {},
   "outputs": [],
   "source": [
    "if __name__ == \"__main__\":\n",
    "    print(\"Publishing records..\")\n",
    "    producer = connect_kafka_producer()\n",
    "\n",
    "    if producer is None:\n",
    "        print(\"Failed to connect to Kafka. Exiting..\")\n",
    "        exit(1)\n",
    "\n",
    "    current_batch = None\n",
    "    batch_events = []\n",
    "\n",
    "    with open(file_path, mode=\"r\") as file:\n",
    "        csv_reader = csv.DictReader(file)\n",
    "        for row in csv_reader:\n",
    "            json_row = dumps(row)\n",
    "            if current_batch is None:\n",
    "                current_batch = row[\"batch_id\"]\n",
    "\n",
    "            if current_batch != row[\"batch_id\"]:\n",
    "                for event in batch_events:\n",
    "                    message = {\n",
    "                        \"event_id\": event[\"event_id\"],\n",
    "                        \"car_plate\": event[\"car_plate\"],\n",
    "                        \"camera_id\": int(event[\"camera_id\"]),\n",
    "                        \"timestamp\": event[\"timestamp\"],\n",
    "                        \"speed_reading\": float(event[\"speed_reading\"]),\n",
    "                        \"producer\": \"B\",\n",
    "                    }\n",
    "                    publish_message(\n",
    "                        producer, topic, event[\"event_id\"], dumps(message)\n",
    "                    )\n",
    "                producer.flush()\n",
    "                print(f\"Batch {current_batch} published successfully.\")\n",
    "                sleep(5)\n",
    "\n",
    "                current_batch = row[\"batch_id\"]\n",
    "                batch_events = []\n",
    "\n",
    "            batch_events.append(row)\n",
    "\n",
    "        if batch_events:\n",
    "            for event in batch_events:\n",
    "                message = {\n",
    "                    \"event_id\": event[\"event_id\"],\n",
    "                    \"car_plate\": event[\"car_plate\"],\n",
    "                    \"camera_id\": int(event[\"camera_id\"]),\n",
    "                    \"timestamp\": event[\"timestamp\"],\n",
    "                    \"speed_reading\": float(event[\"speed_reading\"]),\n",
    "                    \"producer\": \"B\",\n",
    "                }\n",
    "                publish_message(\n",
    "                    producer, topic, event[\"event_id\"], dumps(message)\n",
    "                )\n",
    "            producer.flush()\n",
    "            print(f\"Final batch {current_batch} published successfully.\")\n",
    "\n",
    "    print(\"All messages published successfully.\")\n"
   ]
  },
  {
   "cell_type": "code",
   "execution_count": null,
   "id": "310fe15e",
   "metadata": {},
   "outputs": [],
   "source": []
  }
 ],
 "metadata": {
  "kernelspec": {
   "display_name": "Python 3 (ipykernel)",
   "language": "python",
   "name": "python3"
  },
  "language_info": {
   "codemirror_mode": {
    "name": "ipython",
    "version": 3
   },
   "file_extension": ".py",
   "mimetype": "text/x-python",
   "name": "python",
   "nbconvert_exporter": "python",
   "pygments_lexer": "ipython3",
   "version": "3.10.17"
  }
 },
 "nbformat": 4,
 "nbformat_minor": 5
}
