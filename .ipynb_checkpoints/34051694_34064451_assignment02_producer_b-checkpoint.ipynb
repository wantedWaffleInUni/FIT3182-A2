{
 "cells": [
  {
   "cell_type": "code",
<<<<<<< HEAD
   "execution_count": 1,
=======
   "execution_count": null,
>>>>>>> 4111319051c8d63b1e58679bd51dcfd185745134
   "id": "93bf83b8",
   "metadata": {},
   "outputs": [],
   "source": [
    "from time import sleep\n",
    "from json import dumps\n",
    "from kafka3 import KafkaProducer\n",
    "import csv\n",
    "import datetime as dt"
   ]
  },
  {
   "cell_type": "code",
<<<<<<< HEAD
   "execution_count": 2,
=======
   "execution_count": null,
>>>>>>> 4111319051c8d63b1e58679bd51dcfd185745134
   "id": "d81c212b",
   "metadata": {},
   "outputs": [],
   "source": [
    "# school\n",
    "# hostip = \"10.192.40.238\"\n",
<<<<<<< HEAD
    "hostip = \"10.192.13.255\"\n",
=======
    "# hostip = \"10.192.13.255\"\n",
>>>>>>> 4111319051c8d63b1e58679bd51dcfd185745134
    "\n",
    "# home\n",
    "# hostip = \"192.168.0.88\"\n",
    "# hostip = \"192.168.0.160\"\n",
    "# \n",
    "# hostip = \"10.192.12.188\"\n",
<<<<<<< HEAD
    "# hostip = \"10.192.41.222\"\n",
=======
    "hostip = \"10.192.41.222\"\n",
>>>>>>> 4111319051c8d63b1e58679bd51dcfd185745134
    "\n",
    "# hostip = \"192.168.0.21\"\n",
    "\n",
    "topic = 'ProducerB'\n",
<<<<<<< HEAD
    "file_path = 'data/camera_event_B.csv' \n",
    "# file_path = 'A2/data/camera_event_B.csv' \n",
=======
    "# file_path = 'A2collab/FIT3182-A2/data/camera_event_B.csv' \n",
    "# file_path = 'A2/data/camera_event_B.csv' \n",
    "file_path = 'data/camera_event_B.csv' \n",
    "\n",
>>>>>>> 4111319051c8d63b1e58679bd51dcfd185745134
    "\n",
    "\n",
    "\n",
    "def publish_message(producer_instance, topic_name, key, data):\n",
    "    try:\n",
    "        key_bytes = bytes(key, encoding='utf-8')\n",
    "        value_bytes = bytes(data, encoding='utf-8')\n",
    "        producer_instance.send(topic_name, key=key_bytes, value=value_bytes)\n",
    "        print('Message published successfully. ' + str(data))\n",
    "    except Exception as ex:\n",
    "        print('Exception in publishing message.')\n",
    "        print(str(ex))\n",
    "        \n",
    "        "
   ]
  },
  {
   "cell_type": "code",
<<<<<<< HEAD
   "execution_count": 3,
=======
   "execution_count": null,
>>>>>>> 4111319051c8d63b1e58679bd51dcfd185745134
   "id": "a4a81d66",
   "metadata": {},
   "outputs": [],
   "source": [
    "def connect_kafka_producer():\n",
    "    _producer = None\n",
    "    try:\n",
    "        _producer = KafkaProducer(bootstrap_servers=[f'{hostip}:9092'],\n",
    "                                  api_version=(0, 10))\n",
    "    except Exception as ex:\n",
    "        print('Exception while connecting Kafka.')\n",
    "        print(str(ex))\n",
    "    finally:\n",
    "        return _producer"
   ]
  },
  {
   "cell_type": "code",
   "execution_count": null,
   "id": "6abc93d7",
   "metadata": {},
<<<<<<< HEAD
   "outputs": [
    {
     "name": "stdout",
     "output_type": "stream",
     "text": [
      "Publishing records..\n",
      "Message published successfully. {\"event_id\": \"b5b7dae7-3bf9-4f75-aea8-398d3bde3a41\", \"car_plate\": \"CJW 924\", \"camera_id\": 2, \"timestamp\": \"2024-01-01T08:00:26.029536\", \"speed_reading\": 156.8, \"producer\": \"B\"}\n",
      "Message published successfully. {\"event_id\": \"1649c03b-cd6f-47bd-b4f2-c44fcf60524d\", \"car_plate\": \"CZ 592\", \"camera_id\": 2, \"timestamp\": \"2024-01-01T08:00:26.729115\", \"speed_reading\": 163.9, \"producer\": \"B\"}\n",
      "Message published successfully. {\"event_id\": \"a9c6a4b7-a6b6-4bd7-9719-88bd895814f4\", \"car_plate\": \"UTT 229\", \"camera_id\": 2, \"timestamp\": \"2024-01-01T08:00:26.887170\", \"speed_reading\": 134.1, \"producer\": \"B\"}\n",
      "Message published successfully. {\"event_id\": \"4e13ec51-02db-442c-b7aa-3a2050dd1ad1\", \"car_plate\": \"WA 0712\", \"camera_id\": 2, \"timestamp\": \"2024-01-01T08:00:27.601617\", \"speed_reading\": 133.8, \"producer\": \"B\"}\n",
      "Message published successfully. {\"event_id\": \"74248dd9-c9f8-48d2-94fb-dc5610a0f735\", \"car_plate\": \"AH 8\", \"camera_id\": 2, \"timestamp\": \"2024-01-01T08:00:28.125701\", \"speed_reading\": 158.9, \"producer\": \"B\"}\n",
      "Batch 1 published successfully.\n",
      "Message published successfully. {\"event_id\": \"c14b050b-9319-4705-9adc-74c99eff0791\", \"car_plate\": \"FZ 766\", \"camera_id\": 2, \"timestamp\": \"2024-01-01T08:00:33.114696\", \"speed_reading\": 136.0, \"producer\": \"B\"}\n",
      "Batch 2 published successfully.\n",
      "Message published successfully. {\"event_id\": \"e5ae9cab-569c-45e0-b31f-9e6f07d55838\", \"car_plate\": \"WC 89\", \"camera_id\": 2, \"timestamp\": \"2024-01-01T08:00:41.774758\", \"speed_reading\": 93.5, \"producer\": \"B\"}\n",
      "Batch 3 published successfully.\n",
      "Message published successfully. {\"event_id\": \"9f2e4a15-24fb-4879-9129-5800338088fa\", \"car_plate\": \"EOT 00\", \"camera_id\": 2, \"timestamp\": \"2024-01-01T08:00:28.290929\", \"speed_reading\": 138.8, \"producer\": \"B\"}\n",
      "Message published successfully. {\"event_id\": \"ee787113-eb0d-49d6-9cf9-054569625449\", \"car_plate\": \"HP 1\", \"camera_id\": 2, \"timestamp\": \"2024-01-01T08:00:28.740321\", \"speed_reading\": 142.8, \"producer\": \"B\"}\n",
      "Message published successfully. {\"event_id\": \"cada35fc-33a8-4bf0-a640-e0d6fc2a73df\", \"car_plate\": \"KZE 5\", \"camera_id\": 2, \"timestamp\": \"2024-01-01T08:00:29.186382\", \"speed_reading\": 135.2, \"producer\": \"B\"}\n",
      "Message published successfully. {\"event_id\": \"ac84bb22-32be-4993-a655-49874adeecc4\", \"car_plate\": \"CJP 278\", \"camera_id\": 2, \"timestamp\": \"2024-01-01T08:00:31.515912\", \"speed_reading\": 117.6, \"producer\": \"B\"}\n",
      "Batch 4 published successfully.\n",
      "Message published successfully. {\"event_id\": \"68ffa68c-a083-4a30-a123-9464521462bb\", \"car_plate\": \"WJX 2\", \"camera_id\": 2, \"timestamp\": \"2024-01-01T08:00:38.751677\", \"speed_reading\": 94.8, \"producer\": \"B\"}\n",
      "Message published successfully. {\"event_id\": \"0fac4c5a-7793-4993-97b3-169d41b57680\", \"car_plate\": \"ZPG 90\", \"camera_id\": 2, \"timestamp\": \"2024-01-01T08:00:39.898370\", \"speed_reading\": 98.4, \"producer\": \"B\"}\n",
      "Message published successfully. {\"event_id\": \"2b797755-2cb6-449f-b580-1dd691334076\", \"car_plate\": \"CX 6145\", \"camera_id\": 2, \"timestamp\": \"2024-01-01T08:00:40.382453\", \"speed_reading\": 110.5, \"producer\": \"B\"}\n",
      "Message published successfully. {\"event_id\": \"7b90e93f-714a-46c9-b6b7-9bbcf07cceb1\", \"car_plate\": \"ICE 8\", \"camera_id\": 2, \"timestamp\": \"2024-01-01T08:00:40.838661\", \"speed_reading\": 103.2, \"producer\": \"B\"}\n",
      "Batch 5 published successfully.\n",
      "Message published successfully. {\"event_id\": \"8916338e-f0f5-4fac-8d8d-cdb6c03d1d07\", \"car_plate\": \"KRN 7\", \"camera_id\": 2, \"timestamp\": \"2024-01-01T08:00:52.541902\", \"speed_reading\": 75.5, \"producer\": \"B\"}\n",
      "Message published successfully. {\"event_id\": \"6626efb2-32f3-4bda-8a34-d79eedf615c8\", \"car_plate\": \"QE 1820\", \"camera_id\": 2, \"timestamp\": \"2024-01-01T08:00:57.368642\", \"speed_reading\": 66.1, \"producer\": \"B\"}\n",
      "Batch 6 published successfully.\n",
      "Message published successfully. {\"event_id\": \"7dff112a-d3ce-4ebb-841f-ea3e03662ead\", \"car_plate\": \"WB 418\", \"camera_id\": 2, \"timestamp\": \"2024-01-01T08:08:24.091422\", \"speed_reading\": 138.8, \"producer\": \"B\"}\n",
      "Message published successfully. {\"event_id\": \"1f739fcb-8e46-4c92-a69b-9a18533cb646\", \"car_plate\": \"PI 9\", \"camera_id\": 2, \"timestamp\": \"2024-01-01T08:08:26.478501\", \"speed_reading\": 140.9, \"producer\": \"B\"}\n",
      "Message published successfully. {\"event_id\": \"756a47f3-7f81-4e17-88fa-b2bbed9aa29e\", \"car_plate\": \"PKH 8115\", \"camera_id\": 2, \"timestamp\": \"2024-01-01T08:08:28.027669\", \"speed_reading\": 143.8, \"producer\": \"B\"}\n",
      "Batch 7 published successfully.\n",
      "Message published successfully. {\"event_id\": \"eb9614ad-ee22-4001-835f-4242e362be01\", \"car_plate\": \"JEJ 6\", \"camera_id\": 2, \"timestamp\": \"2024-01-01T08:08:34.116409\", \"speed_reading\": 111.2, \"producer\": \"B\"}\n",
      "Batch 8 published successfully.\n",
      "Message published successfully. {\"event_id\": \"be049d21-395f-4d4d-9b6d-b9abf442219b\", \"car_plate\": \"EZ 6277\", \"camera_id\": 2, \"timestamp\": \"2024-01-01T08:08:39.920072\", \"speed_reading\": 94.3, \"producer\": \"B\"}\n",
      "Message published successfully. {\"event_id\": \"ac68fd91-60d4-4120-8f5a-2a0f2984549f\", \"car_plate\": \"KV 17\", \"camera_id\": 2, \"timestamp\": \"2024-01-01T08:08:44.552593\", \"speed_reading\": 86.9, \"producer\": \"B\"}\n",
      "Batch 9 published successfully.\n",
      "Message published successfully. {\"event_id\": \"58588fd9-1fd6-4b52-929b-406731bbce2b\", \"car_plate\": \"WPV 1456\", \"camera_id\": 2, \"timestamp\": \"2024-01-01T08:08:45.845657\", \"speed_reading\": 75.1, \"producer\": \"B\"}\n",
      "Message published successfully. {\"event_id\": \"274dffed-ed69-4f56-8a2e-5c017d27adc1\", \"car_plate\": \"QJ 53\", \"camera_id\": 2, \"timestamp\": \"2024-01-01T08:08:46.302895\", \"speed_reading\": 82.8, \"producer\": \"B\"}\n",
      "Batch 10 published successfully.\n",
      "Message published successfully. {\"event_id\": \"7012857e-8060-4291-8c2d-0a8601c258d8\", \"car_plate\": \"YRV 3\", \"camera_id\": 2, \"timestamp\": \"2024-01-01T08:08:58.749711\", \"speed_reading\": 63.8, \"producer\": \"B\"}\n",
      "Batch 11 published successfully.\n",
      "Message published successfully. {\"event_id\": \"42b0938d-6524-40b5-99cc-b71e26aa30f3\", \"car_plate\": \"KKE 15\", \"camera_id\": 2, \"timestamp\": \"2024-01-01T08:00:23.896476\", \"speed_reading\": 138.3, \"producer\": \"B\"}\n",
      "Batch 12 published successfully.\n",
      "Message published successfully. {\"event_id\": \"7dba46aa-77b5-47f5-9801-d30e5ddff0d7\", \"car_plate\": \"FO 32\", \"camera_id\": 2, \"timestamp\": \"2024-01-01T08:00:39.240776\", \"speed_reading\": 94.8, \"producer\": \"B\"}\n",
      "Batch 13 published successfully.\n",
      "Message published successfully. {\"event_id\": \"3f9d8d31-718b-4021-b3f0-1f5aed75009b\", \"car_plate\": \"FA 35\", \"camera_id\": 2, \"timestamp\": \"2024-01-01T08:00:48.370527\", \"speed_reading\": 84.2, \"producer\": \"B\"}\n",
      "Batch 14 published successfully.\n",
      "Message published successfully. {\"event_id\": \"cbafd132-a61f-4713-b2f9-76f08141c70e\", \"car_plate\": \"WZ 24\", \"camera_id\": 2, \"timestamp\": \"2024-01-01T08:08:25.481310\", \"speed_reading\": 160.2, \"producer\": \"B\"}\n",
      "Message published successfully. {\"event_id\": \"9dd51204-9367-4369-8575-611b817ce296\", \"car_plate\": \"UQV 232\", \"camera_id\": 2, \"timestamp\": \"2024-01-01T08:08:25.620770\", \"speed_reading\": 157.6, \"producer\": \"B\"}\n",
      "Batch 15 published successfully.\n",
      "Message published successfully. {\"event_id\": \"340aef07-48be-44d0-aeb8-b08df2023f7e\", \"car_plate\": \"VWM 13\", \"camera_id\": 2, \"timestamp\": \"2024-01-01T08:08:31.623998\", \"speed_reading\": 117.3, \"producer\": \"B\"}\n",
      "Message published successfully. {\"event_id\": \"d3051697-4d90-4d15-8802-b34bd9436732\", \"car_plate\": \"XYG 05\", \"camera_id\": 2, \"timestamp\": \"2024-01-01T08:08:33.906703\", \"speed_reading\": 109.6, \"producer\": \"B\"}\n",
      "Batch 16 published successfully.\n",
      "Message published successfully. {\"event_id\": \"d33a1a67-4f54-47d9-a3c1-f9fbcd5751a9\", \"car_plate\": \"IFY 23\", \"camera_id\": 2, \"timestamp\": \"2024-01-01T08:08:38.633820\", \"speed_reading\": 111.1, \"producer\": \"B\"}\n",
      "Batch 17 published successfully.\n",
      "Message published successfully. {\"event_id\": \"b8762345-0b31-4cc6-b35c-e99e5168c7b7\", \"car_plate\": \"QZ 81\", \"camera_id\": 2, \"timestamp\": \"2024-01-01T08:09:01.211939\", \"speed_reading\": 62.0, \"producer\": \"B\"}\n",
      "Batch 18 published successfully.\n"
     ]
    }
   ],
=======
   "outputs": [],
>>>>>>> 4111319051c8d63b1e58679bd51dcfd185745134
   "source": [
    "if __name__ == '__main__':\n",
    "    print('Publishing records..')\n",
    "    producer = connect_kafka_producer()\n",
    "\n",
    "    if producer is None:\n",
    "        print('Failed to connect to Kafka. Exiting..')\n",
    "        exit(1)\n",
    "\n",
    "    current_batch = None\n",
    "    batch_events = []\n",
    "\n",
    "    with open(file_path, mode='r') as file:\n",
    "        csv_reader = csv.DictReader(file)\n",
    "        for row in csv_reader:\n",
    "            json_row = dumps(row)\n",
    "            if current_batch is None:\n",
    "                current_batch = row['batch_id']\n",
    "\n",
    "            if current_batch != row['batch_id']:\n",
    "                for event in batch_events:\n",
    "                    message = {\n",
    "                        'event_id': event['event_id'],\n",
    "                        \"car_plate\": event['car_plate'],\n",
    "                        \"camera_id\": int(event['camera_id']),\n",
    "                        \"timestamp\": event['timestamp'],\n",
    "                        \"speed_reading\": float(event['speed_reading']),\n",
    "                        \"producer\": \"B\"\n",
    "                    }\n",
    "                    publish_message(producer, topic, event['event_id'], dumps(message))\n",
    "                producer.flush()\n",
    "                print(f'Batch {current_batch} published successfully.')\n",
    "                sleep(5)\n",
    "\n",
    "                current_batch = row['batch_id']\n",
    "                batch_events = []\n",
    "\n",
    "            batch_events.append(row)\n",
    "\n",
    "        if batch_events:\n",
    "            for event in batch_events:\n",
    "                message = {\n",
    "                    'event_id': event['event_id'],\n",
    "                    \"car_plate\": event['car_plate'],\n",
    "                    \"camera_id\": int(event['camera_id']),\n",
    "                    \"timestamp\": event['timestamp'],\n",
    "                    \"speed_reading\": float(event['speed_reading']),\n",
    "                    \"producer\": \"B\"\n",
    "                }\n",
    "                publish_message(producer, topic, event['event_id'], dumps(message))\n",
    "            producer.flush()\n",
    "            print(f'Final batch {current_batch} published successfully.')\n",
    "\n",
    "    print('All messages published successfully.')"
   ]
  },
  {
   "cell_type": "code",
   "execution_count": null,
   "id": "310fe15e",
   "metadata": {},
   "outputs": [],
   "source": []
  }
 ],
 "metadata": {
  "kernelspec": {
   "display_name": "Python 3 (ipykernel)",
   "language": "python",
   "name": "python3"
  },
  "language_info": {
   "codemirror_mode": {
    "name": "ipython",
    "version": 3
   },
   "file_extension": ".py",
   "mimetype": "text/x-python",
   "name": "python",
   "nbconvert_exporter": "python",
   "pygments_lexer": "ipython3",
   "version": "3.10.17"
  }
 },
 "nbformat": 4,
 "nbformat_minor": 5
}
