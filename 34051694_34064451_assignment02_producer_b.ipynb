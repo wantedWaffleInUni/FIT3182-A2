{
 "cells": [
  {
   "cell_type": "code",
   "execution_count": 2,
   "id": "93bf83b8",
   "metadata": {},
   "outputs": [],
   "source": [
    "from time import sleep\n",
    "from json import dumps\n",
    "from kafka3 import KafkaProducer\n",
    "import csv\n",
    "import datetime as dt"
   ]
  },
  {
   "cell_type": "code",
   "execution_count": 3,
   "id": "d81c212b",
   "metadata": {},
   "outputs": [],
   "source": [
    "hostip = \"10.192.12.188\"\n",
    "# hostip = \"10.192.40.238\"\n",
    "topic = 'ProducerB'\n",
    "file_path = 'A2/data/camera_event_B.csv' \n",
    "\n",
    "\n",
    "def publish_message(producer_instance, topic_name, key, data):\n",
    "    try:\n",
    "        key_bytes = bytes(key, encoding='utf-8')\n",
    "        value_bytes = bytes(data, encoding='utf-8')\n",
    "        producer_instance.send(topic_name, key=key_bytes, value=value_bytes)\n",
    "        print('Message published successfully. ' + str(data))\n",
    "    except Exception as ex:\n",
    "        print('Exception in publishing message.')\n",
    "        print(str(ex))\n",
    "        \n",
    "        "
   ]
  },
  {
   "cell_type": "code",
   "execution_count": 4,
   "id": "a4a81d66",
   "metadata": {},
   "outputs": [],
   "source": [
    "def connect_kafka_producer():\n",
    "    _producer = None\n",
    "    try:\n",
    "        _producer = KafkaProducer(bootstrap_servers=[f'{hostip}:9092'],\n",
    "                                  api_version=(0, 10))\n",
    "    except Exception as ex:\n",
    "        print('Exception while connecting Kafka.')\n",
    "        print(str(ex))\n",
    "    finally:\n",
    "        return _producer"
   ]
  },
  {
   "cell_type": "code",
   "execution_count": 5,
   "id": "6abc93d7",
   "metadata": {},
   "outputs": [
    {
     "name": "stdout",
     "output_type": "stream",
     "text": [
      "Publishing records..\n",
      "Message published successfully. {\"event_id\": \"b5b7dae7-3bf9-4f75-aea8-398d3bde3a41\", \"batch_id\": \"1\", \"car_plate\": \"CJW 924\", \"camera_id\": \"2\", \"timestamp\": \"2024-01-01T08:00:26.029536\", \"speed_reading\": \"156.8\"}\n",
      "Message published successfully. {\"event_id\": \"1649c03b-cd6f-47bd-b4f2-c44fcf60524d\", \"batch_id\": \"1\", \"car_plate\": \"CZ 592\", \"camera_id\": \"2\", \"timestamp\": \"2024-01-01T08:00:26.729115\", \"speed_reading\": \"163.9\"}\n",
      "Message published successfully. {\"event_id\": \"a9c6a4b7-a6b6-4bd7-9719-88bd895814f4\", \"batch_id\": \"1\", \"car_plate\": \"UTT 229\", \"camera_id\": \"2\", \"timestamp\": \"2024-01-01T08:00:26.887170\", \"speed_reading\": \"134.1\"}\n",
      "Message published successfully. {\"event_id\": \"4e13ec51-02db-442c-b7aa-3a2050dd1ad1\", \"batch_id\": \"1\", \"car_plate\": \"WA 0712\", \"camera_id\": \"2\", \"timestamp\": \"2024-01-01T08:00:27.601617\", \"speed_reading\": \"133.8\"}\n",
      "Message published successfully. {\"event_id\": \"74248dd9-c9f8-48d2-94fb-dc5610a0f735\", \"batch_id\": \"1\", \"car_plate\": \"AH 8\", \"camera_id\": \"2\", \"timestamp\": \"2024-01-01T08:00:28.125701\", \"speed_reading\": \"158.9\"}\n",
      "Message published successfully. {\"event_id\": \"c14b050b-9319-4705-9adc-74c99eff0791\", \"batch_id\": \"2\", \"car_plate\": \"FZ 766\", \"camera_id\": \"2\", \"timestamp\": \"2024-01-01T08:00:33.114696\", \"speed_reading\": \"136.0\"}\n",
      "Message published successfully. {\"event_id\": \"e5ae9cab-569c-45e0-b31f-9e6f07d55838\", \"batch_id\": \"3\", \"car_plate\": \"WC 89\", \"camera_id\": \"2\", \"timestamp\": \"2024-01-01T08:00:41.774758\", \"speed_reading\": \"93.5\"}\n"
     ]
    },
    {
     "ename": "KeyboardInterrupt",
     "evalue": "",
     "output_type": "error",
     "traceback": [
      "\u001b[0;31m---------------------------------------------------------------------------\u001b[0m",
      "\u001b[0;31mKeyboardInterrupt\u001b[0m                         Traceback (most recent call last)",
      "Cell \u001b[0;32mIn[5], line 15\u001b[0m\n\u001b[1;32m     13\u001b[0m         key \u001b[38;5;241m=\u001b[39m row[\u001b[38;5;124m'\u001b[39m\u001b[38;5;124mevent_id\u001b[39m\u001b[38;5;124m'\u001b[39m]\n\u001b[1;32m     14\u001b[0m         publish_message(producer, topic, key, json_row)\n\u001b[0;32m---> 15\u001b[0m         \u001b[43msleep\u001b[49m\u001b[43m(\u001b[49m\u001b[38;5;241;43m1\u001b[39;49m\u001b[43m)\u001b[49m\n\u001b[1;32m     17\u001b[0m \u001b[38;5;28mprint\u001b[39m(\u001b[38;5;124m'\u001b[39m\u001b[38;5;124mAll messages published successfully.\u001b[39m\u001b[38;5;124m'\u001b[39m)\n",
      "\u001b[0;31mKeyboardInterrupt\u001b[0m: "
     ]
    }
   ],
   "source": [
    "if __name__ == '__main__':\n",
    "    print('Publishing records..')\n",
    "    producer = connect_kafka_producer()\n",
    "\n",
    "    if producer is None:\n",
    "        print('Failed to connect to Kafka. Exiting..')\n",
    "        exit(1)\n",
    "\n",
    "    with open(file_path, mode='r') as file:\n",
    "        csv_reader = csv.DictReader(file)\n",
    "        for row in csv_reader:\n",
    "            json_row = dumps(row)\n",
    "            key = row['event_id']\n",
    "            publish_message(producer, topic, key, json_row)\n",
    "            sleep(1)\n",
    "\n",
    "    print('All messages published successfully.')"
   ]
  },
  {
   "cell_type": "code",
   "execution_count": null,
   "id": "93841df6",
   "metadata": {},
   "outputs": [],
   "source": []
  }
 ],
 "metadata": {
  "kernelspec": {
   "display_name": "Python 3 (ipykernel)",
   "language": "python",
   "name": "python3"
  },
  "language_info": {
   "codemirror_mode": {
    "name": "ipython",
    "version": 3
   },
   "file_extension": ".py",
   "mimetype": "text/x-python",
   "name": "python",
   "nbconvert_exporter": "python",
   "pygments_lexer": "ipython3",
   "version": "3.8.15"
  }
 },
 "nbformat": 4,
 "nbformat_minor": 5
}
