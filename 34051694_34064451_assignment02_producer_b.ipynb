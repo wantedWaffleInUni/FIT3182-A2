{
 "cells": [
  {
   "cell_type": "code",
   "execution_count": null,
   "id": "93bf83b8",
   "metadata": {},
   "outputs": [],
   "source": [
    "from time import sleep\n",
    "from json import dumps\n",
    "from kafka3 import KafkaProducer\n",
    "import csv\n",
    "import datetime as dt"
   ]
  },
  {
   "cell_type": "code",
   "execution_count": null,
   "id": "d81c212b",
   "metadata": {},
   "outputs": [],
   "source": [
    "# hostip = \"192.168.1.87\"\n",
    "hostip = \"10.192.40.238\"\n",
    "topic = 'ProducerB'\n",
    "file_path = 'A2/data/camera_event_B.csv' \n",
    "\n",
    "\n",
    "def publish_message(producer_instance, topic_name, key, data):\n",
    "    try:\n",
    "        key_bytes = bytes(key, encoding='utf-8')\n",
    "        value_bytes = bytes(data, encoding='utf-8')\n",
    "        producer_instance.send(topic_name, key=key_bytes, value=value_bytes)\n",
    "        print('Message published successfully. ' + str(data))\n",
    "    except Exception as ex:\n",
    "        print('Exception in publishing message.')\n",
    "        print(str(ex))\n",
    "        \n",
    "        "
   ]
  },
  {
   "cell_type": "code",
   "execution_count": null,
   "id": "a4a81d66",
   "metadata": {},
   "outputs": [],
   "source": [
    "def connect_kafka_producer():\n",
    "    _producer = None\n",
    "    try:\n",
    "        _producer = KafkaProducer(bootstrap_servers=[f'{hostip}:9092'],\n",
    "                                  api_version=(0, 10))\n",
    "    except Exception as ex:\n",
    "        print('Exception while connecting Kafka.')\n",
    "        print(str(ex))\n",
    "    finally:\n",
    "        return _producer"
   ]
  },
  {
   "cell_type": "code",
   "execution_count": null,
   "id": "6abc93d7",
   "metadata": {},
   "outputs": [],
   "source": [
    "if __name__ == '__main__':\n",
    "    print('Publishing records..')\n",
    "    producer = connect_kafka_producer()\n",
    "\n",
    "    if producer is None:\n",
    "        print('Failed to connect to Kafka. Exiting..')\n",
    "        exit(1)\n",
    "\n",
    "    with open(file_path, mode='r') as file:\n",
    "        csv_reader = csv.DictReader(file)\n",
    "        for row in csv_reader:\n",
    "            json_row = dumps(row)\n",
    "            key = row['event_id']\n",
    "            publish_message(producer, topic, key, json_row)\n",
    "            sleep(1)\n",
    "\n",
    "    print('All messages published successfully.')"
   ]
  }
 ],
 "metadata": {
  "kernelspec": {
   "display_name": "Python 3 (ipykernel)",
   "language": "python",
   "name": "python3"
  },
  "language_info": {
   "codemirror_mode": {
    "name": "ipython",
    "version": 3
   },
   "file_extension": ".py",
   "mimetype": "text/x-python",
   "name": "python",
   "nbconvert_exporter": "python",
   "pygments_lexer": "ipython3",
   "version": "3.8.16"
  }
 },
 "nbformat": 4,
 "nbformat_minor": 5
}
