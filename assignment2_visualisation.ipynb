{
 "cells": [
  {
   "cell_type": "code",
   "execution_count": null,
   "id": "7badf490",
   "metadata": {},
   "outputs": [],
   "source": [
    "%matplotlib inline\n",
    "import time\n",
    "from pymongo import MongoClient \n",
    "import pandas as pd\n",
    "import matplotlib.pyplot as plt\n",
    "from IPython.display import clear_output\n",
    "from datetime import datetime"
   ]
  },
  {
   "cell_type": "code",
   "execution_count": null,
   "id": "79fdc969",
   "metadata": {},
   "outputs": [],
   "source": [
    "hostip = \"10.192.41.222\"\n",
    "client = MongoClient(\n",
    "        host=f'{hostip}',\n",
    "        port=27017\n",
    "    )\n",
    "db = client[\"awas_db\"]\n",
    "violation_col = db[\"violation\"]\n",
    "\n",
    "print(violation_col.count_documents({}))\n",
    "\n",
    "for doc in violation_col.find().limit(5):\n",
    "    print(doc)"
   ]
  },
  {
   "cell_type": "code",
   "execution_count": null,
   "id": "9f0d7c59",
   "metadata": {},
   "outputs": [],
   "source": [
    "# Convert MongoDB timestamp to pandas datetime\n",
    "def fetch_violation_data():\n",
    "    pipeline = [\n",
    "        {\"$unwind\": \"$violations\"},\n",
    "        {\"$project\": {\n",
    "            \"_id\": 0,\n",
    "            \"timestamp\": \"$violations.timestamp_start\"\n",
    "        }}\n",
    "    ]\n",
    "    cursor = violation_col.aggregate(pipeline)\n",
    "    timestamps = [doc[\"timestamp\"] for doc in cursor if \"timestamp\" in doc]\n",
    "    return pd.DataFrame(timestamps, columns=[\"timestamp\"])"
   ]
  },
  {
   "cell_type": "code",
   "execution_count": null,
   "id": "6f4b3ceb",
   "metadata": {},
   "outputs": [],
   "source": [
    "# Real-time plotting function\n",
    "def visualize_stream(interval_sec=5):\n",
    "    # fig, ax = plt.subplots(figsize=(12, 6))\n",
    "\n",
    "    while True:\n",
    "        df = fetch_violation_data()\n",
    "        if df.empty:\n",
    "            print(\"No data yet...\")\n",
    "            time.sleep(interval_sec)\n",
    "            continue\n",
    "\n",
    "        # Convert string/object to datetime\n",
    "        df[\"timestamp\"] = pd.to_datetime(df[\"timestamp\"], format='ISO8601', errors='coerce')\n",
    "\n",
    "        # Group by 10-second intervals\n",
    "        df.set_index(\"timestamp\", inplace=True)\n",
    "        counts = df.resample(\"5s\").size()\n",
    "\n",
    "        clear_output(wait=True)\n",
    "        plt.figure(figsize=(12, 6))\n",
    "        plt.plot(counts.index, counts.values, marker='o', linestyle='-')\n",
    "\n",
    "        if not counts.empty:\n",
    "            max_time = counts.idxmax()\n",
    "            max_val = counts.max()\n",
    "            min_time = counts.idxmin()\n",
    "            min_val = counts.min()\n",
    "            plt.annotate(f'Max: {max_val}', xy=(max_time, max_val), xytext=(max_time, max_val + 1),\n",
    "                         arrowprops=dict(facecolor='green'), fontsize=10)\n",
    "            plt.annotate(f'Min: {min_val}', xy=(min_time, min_val), xytext=(min_time, min_val + 1),\n",
    "                         arrowprops=dict(facecolor='red'), fontsize=10)\n",
    "\n",
    "        plt.title(\"Violations Over Time (10s)\")\n",
    "        plt.xlabel(\"Time\")\n",
    "        plt.ylabel(\"Number of Violations\")\n",
    "        plt.grid(True)\n",
    "        plt.tight_layout()\n",
    "        plt.show()\n",
    "\n",
    "        time.sleep(interval_sec)\n",
    "\n",
    "if __name__ == \"__main__\":\n",
    "    visualize_stream()\n"
   ]
  },
  {
   "cell_type": "markdown",
   "id": "b18e52e7",
   "metadata": {},
   "source": []
  }
 ],
 "metadata": {
  "kernelspec": {
   "display_name": "Python 3 (ipykernel)",
   "language": "python",
   "name": "python3"
  },
  "language_info": {
   "codemirror_mode": {
    "name": "ipython",
    "version": 3
   },
   "file_extension": ".py",
   "mimetype": "text/x-python",
   "name": "python",
   "nbconvert_exporter": "python",
   "pygments_lexer": "ipython3",
   "version": "3.10.17"
  }
 },
 "nbformat": 4,
 "nbformat_minor": 5
}
