{
 "cells": [
  {
   "cell_type": "code",
   "execution_count": null,
   "id": "50a399a9",
   "metadata": {},
   "outputs": [],
   "source": [
    "from time import sleep\n",
    "from json import dumps\n",
    "from kafka3 import KafkaProducer\n",
    "import csv\n",
    "import datetime as dt"
   ]
  },
  {
   "cell_type": "code",
   "execution_count": null,
   "id": "8ae2e9ae",
   "metadata": {},
   "outputs": [],
   "source": [
    "# school\n",
    "# hostip = \"10.192.40.238\"\n",
    "# home\n",
    "# hostip = \"192.168.0.88\"\n",
    "# hostip = \"192.168.0.160\"\n",
    "# \n",
    "# hostip = \"10.192.12.188\"\n",
    "# hostip = \"10.192.40.238\"\n",
    "\n",
    "hostip = \"192.168.0.21\"\n",
    "\n",
    "topic = 'ProducerA'\n",
    "# file_path = 'FIT3182-A2/data/camera_event_A.csv'\n",
    "file_path = 'A2collab/FIT3182-A2/data/camera_event_A.csv'\n",
    "\n",
    "\n",
    "\n",
    "def publish_message(producer_instance, topic_name, key, data):\n",
    "    try:\n",
    "        key_bytes = bytes(key, encoding='utf-8')\n",
    "        value_bytes = bytes(data, encoding='utf-8')\n",
    "        producer_instance.send(topic_name, key=key_bytes, value=value_bytes)\n",
    "        print('Message published successfully. ' + str(data))\n",
    "    except Exception as ex:\n",
    "        print('Exception in publishing message.')\n",
    "        print(str(ex))\n",
    "        "
   ]
  },
  {
   "cell_type": "code",
   "execution_count": null,
   "id": "15df621b",
   "metadata": {},
   "outputs": [],
   "source": [
    "def connect_kafka_producer():\n",
    "    _producer = None\n",
    "    try:\n",
    "        _producer = KafkaProducer(bootstrap_servers=[f'{hostip}:9092'],\n",
    "                                  api_version=(0, 10))\n",
    "    except Exception as ex:\n",
    "        print('Exception while connecting Kafka.')\n",
    "        print(str(ex))\n",
    "    finally:\n",
    "        return _producer"
   ]
  },
  {
   "cell_type": "code",
   "execution_count": 15,
   "id": "53609bca",
   "metadata": {},
   "outputs": [
    {
     "ename": "KeyboardInterrupt",
     "evalue": "",
     "output_type": "error",
     "traceback": [
      "\u001b[0;31m---------------------------------------------------------------------------\u001b[0m",
      "\u001b[0;31mKeyboardInterrupt\u001b[0m                         Traceback (most recent call last)",
      "Cell \u001b[0;32mIn[15], line 32\u001b[0m\n\u001b[1;32m     30\u001b[0m producer\u001b[38;5;241m.\u001b[39mflush()\n\u001b[1;32m     31\u001b[0m \u001b[38;5;28mprint\u001b[39m(\u001b[38;5;124mf\u001b[39m\u001b[38;5;124m'\u001b[39m\u001b[38;5;124mBatch \u001b[39m\u001b[38;5;132;01m{\u001b[39;00mcurrent_batch\u001b[38;5;132;01m}\u001b[39;00m\u001b[38;5;124m published successfully.\u001b[39m\u001b[38;5;124m'\u001b[39m)\n\u001b[0;32m---> 32\u001b[0m \u001b[43msleep\u001b[49m\u001b[43m(\u001b[49m\u001b[38;5;241;43m5\u001b[39;49m\u001b[43m)\u001b[49m\n\u001b[1;32m     34\u001b[0m current_batch \u001b[38;5;241m=\u001b[39m row[\u001b[38;5;124m'\u001b[39m\u001b[38;5;124mbatch_id\u001b[39m\u001b[38;5;124m'\u001b[39m]\n\u001b[1;32m     35\u001b[0m batch_events \u001b[38;5;241m=\u001b[39m []\n",
      "\u001b[0;31mKeyboardInterrupt\u001b[0m: "
     ]
    }
   ],
   "source": [
    "if __name__ == '__main__':\n",
    "    print('Publishing records..')\n",
    "    producer = connect_kafka_producer()\n",
    "\n",
    "    if producer is None:\n",
    "        print('Failed to connect to Kafka. Exiting..')\n",
    "        exit(1)\n",
    "\n",
    "    current_batch = None\n",
    "    batch_events = []\n",
    "\n",
    "    with open(file_path, mode='r') as file:\n",
    "        csv_reader = csv.DictReader(file)\n",
    "        for row in csv_reader:\n",
    "            json_row = dumps(row)\n",
    "            if current_batch is None:\n",
    "                current_batch = row['batch_id']\n",
    "\n",
    "            if current_batch != row['batch_id']:\n",
    "                for event in batch_events:\n",
    "                    message = {\n",
    "                        'event_id': event['event_id'],\n",
    "                        \"car_plate\": event['car_plate'],\n",
    "                        \"camera_id\": int(event['camera_id']),\n",
    "                        \"timestamp\": event['timestamp'],\n",
    "                        \"speed_reading\": float(event['speed_reading']),\n",
    "                        \"producer\": \"A\"\n",
    "                    }\n",
    "                    publish_message(producer, topic, event['event_id'], dumps(message))\n",
    "                producer.flush()\n",
    "                print(f'Batch {current_batch} published successfully.')\n",
    "                sleep(5)\n",
    "\n",
    "                current_batch = row['batch_id']\n",
    "                batch_events = []\n",
    "\n",
    "            batch_events.append(row)\n",
    "\n",
    "        if batch_events:\n",
    "            for event in batch_events:\n",
    "                message = {\n",
    "                    'event_id': event['event_id'],\n",
    "                    \"car_plate\": event['car_plate'],\n",
    "                    \"camera_id\": int(event['camera_id']),\n",
    "                    \"timestamp\": event['timestamp'],\n",
    "                    \"speed_reading\": float(event['speed_reading']),\n",
    "                    \"producer\": \"A\"\n",
    "                }\n",
    "                publish_message(producer, topic, event['event_id'], dumps(message))\n",
    "            producer.flush()\n",
    "            print(f'Final batch {current_batch} published successfully.')\n",
    "\n",
    "    print('All messages published successfully.')"
   ]
  },
  {
   "cell_type": "code",
   "execution_count": null,
   "id": "c930f6c9",
   "metadata": {},
   "outputs": [],
   "source": []
  }
 ],
 "metadata": {
  "kernelspec": {
   "display_name": "Python 3 (ipykernel)",
   "language": "python",
   "name": "python3"
  },
  "language_info": {
   "codemirror_mode": {
    "name": "ipython",
    "version": 3
   },
   "file_extension": ".py",
   "mimetype": "text/x-python",
   "name": "python",
   "nbconvert_exporter": "python",
   "pygments_lexer": "ipython3",
   "version": "3.10.17"
  }
 },
 "nbformat": 4,
 "nbformat_minor": 5
}
