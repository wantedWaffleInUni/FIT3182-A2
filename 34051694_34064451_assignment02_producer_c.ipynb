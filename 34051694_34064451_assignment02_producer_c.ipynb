{
 "cells": [
  {
   "cell_type": "code",
   "execution_count": 2,
   "id": "2cce9c40",
   "metadata": {},
   "outputs": [],
   "source": [
    "from time import sleep\n",
    "from json import dumps\n",
    "from kafka3 import KafkaProducer\n",
    "import csv\n",
    "import datetime as dt"
   ]
  },
  {
   "cell_type": "code",
   "execution_count": 3,
   "id": "f84a9fdb",
   "metadata": {},
   "outputs": [],
   "source": [
    "# hostip = \"192.168.1.87\"\n",
    "# hostip = \"10.192.40.238\"\n",
    "hostip = \"192.168.0.88\"\n",
    "topic = 'ProducerC'\n",
    "file_path = 'A2/data/camera_event_C.csv' \n",
    "\n",
    "\n",
    "def publish_message(producer_instance, topic_name, key, data):\n",
    "    try:\n",
    "        key_bytes = bytes(key, encoding='utf-8')\n",
    "        value_bytes = bytes(data, encoding='utf-8')\n",
    "        producer_instance.send(topic_name, key=key_bytes, value=value_bytes)\n",
    "        print('Message published successfully. ' + str(data))\n",
    "    except Exception as ex:\n",
    "        print('Exception in publishing message.')\n",
    "        print(str(ex))\n",
    "        \n",
    "        "
   ]
  },
  {
   "cell_type": "code",
   "execution_count": 4,
   "id": "bfcc97fd",
   "metadata": {},
   "outputs": [],
   "source": [
    "def connect_kafka_producer():\n",
    "    _producer = None\n",
    "    try:\n",
    "        _producer = KafkaProducer(bootstrap_servers=[f'{hostip}:9092'],\n",
    "                                  api_version=(0, 10))\n",
    "    except Exception as ex:\n",
    "        print('Exception while connecting Kafka.')\n",
    "        print(str(ex))\n",
    "    finally:\n",
    "        return _producer\n",
    "    "
   ]
  },
  {
   "cell_type": "code",
   "execution_count": 5,
   "id": "c30a22d6",
   "metadata": {},
   "outputs": [
    {
     "name": "stdout",
     "output_type": "stream",
     "text": [
      "Publishing records..\n",
      "Message published successfully. {\"event_id\": \"d86e8cdb-c387-4ccb-b35a-346302238824\", \"car_plate\": \"UTT 229\", \"camera_id\": \"3\", \"timestamp\": \"2024-01-01T08:00:54.958092\", \"speed_reading\": 130.8, \"producer\": \"C\"}\n",
      "Batch 1 published successfully.\n",
      "Message published successfully. {\"event_id\": \"f804c4e8-022d-4243-b43e-9ec0860ce6ff\", \"car_plate\": \"CJW 924\", \"camera_id\": \"3\", \"timestamp\": \"2024-01-01T08:00:47.168827\", \"speed_reading\": 164.5, \"producer\": \"C\"}\n",
      "Batch 2 published successfully.\n",
      "Message published successfully. {\"event_id\": \"a246b391-fb7c-44a3-8f8b-ddf40bba3d05\", \"car_plate\": \"WA 0712\", \"camera_id\": \"3\", \"timestamp\": \"2024-01-01T08:00:53.815270\", \"speed_reading\": 134.4, \"producer\": \"C\"}\n",
      "Message published successfully. {\"event_id\": \"e0dae388-6036-4b7d-ba58-bed0808c1611\", \"car_plate\": \"KZE 5\", \"camera_id\": \"3\", \"timestamp\": \"2024-01-01T08:00:57.613888\", \"speed_reading\": 125.3, \"producer\": \"C\"}\n",
      "Batch 3 published successfully.\n",
      "Message published successfully. {\"event_id\": \"55a60e1c-818e-4e55-bc02-0627765629b2\", \"car_plate\": \"ICE 8\", \"camera_id\": \"3\", \"timestamp\": \"2024-01-01T08:01:16.405088\", \"speed_reading\": 108.0, \"producer\": \"C\"}\n",
      "Message published successfully. {\"event_id\": \"daafd000-91fa-4ff7-a9bf-896ee74b35ad\", \"car_plate\": \"WC 89\", \"camera_id\": \"3\", \"timestamp\": \"2024-01-01T08:01:18.835653\", \"speed_reading\": 94.5, \"producer\": \"C\"}\n",
      "Batch 4 published successfully.\n",
      "Message published successfully. {\"event_id\": \"8d6827a6-5ca3-49ac-8d67-f01b64a31c4f\", \"car_plate\": \"KRN 7\", \"camera_id\": \"3\", \"timestamp\": \"2024-01-01T08:01:42.077427\", \"speed_reading\": 76.2, \"producer\": \"C\"}\n",
      "Batch 5 published successfully.\n"
     ]
    },
    {
     "ename": "KeyboardInterrupt",
     "evalue": "",
     "output_type": "error",
     "traceback": [
      "\u001b[0;31m---------------------------------------------------------------------------\u001b[0m",
      "\u001b[0;31mKeyboardInterrupt\u001b[0m                         Traceback (most recent call last)",
      "Cell \u001b[0;32mIn[5], line 32\u001b[0m\n\u001b[1;32m     30\u001b[0m producer\u001b[38;5;241m.\u001b[39mflush()\n\u001b[1;32m     31\u001b[0m \u001b[38;5;28mprint\u001b[39m(\u001b[38;5;124mf\u001b[39m\u001b[38;5;124m'\u001b[39m\u001b[38;5;124mBatch \u001b[39m\u001b[38;5;132;01m{\u001b[39;00mcurrent_batch\u001b[38;5;132;01m}\u001b[39;00m\u001b[38;5;124m published successfully.\u001b[39m\u001b[38;5;124m'\u001b[39m)\n\u001b[0;32m---> 32\u001b[0m \u001b[43msleep\u001b[49m\u001b[43m(\u001b[49m\u001b[38;5;241;43m5\u001b[39;49m\u001b[43m)\u001b[49m\n\u001b[1;32m     34\u001b[0m current_batch \u001b[38;5;241m=\u001b[39m row[\u001b[38;5;124m'\u001b[39m\u001b[38;5;124mbatch_id\u001b[39m\u001b[38;5;124m'\u001b[39m]\n\u001b[1;32m     35\u001b[0m batch_events \u001b[38;5;241m=\u001b[39m []\n",
      "\u001b[0;31mKeyboardInterrupt\u001b[0m: "
     ]
    }
   ],
   "source": [
    "if __name__ == '__main__':\n",
    "    print('Publishing records..')\n",
    "    producer = connect_kafka_producer()\n",
    "\n",
    "    if producer is None:\n",
    "        print('Failed to connect to Kafka. Exiting..')\n",
    "        exit(1)\n",
    "\n",
    "    current_batch = None\n",
    "    batch_events = []\n",
    "\n",
    "    with open(file_path, mode='r') as file:\n",
    "        csv_reader = csv.DictReader(file)\n",
    "        for row in csv_reader:\n",
    "            json_row = dumps(row)\n",
    "            if current_batch is None:\n",
    "                current_batch = row['batch_id']\n",
    "\n",
    "            if current_batch != row['batch_id']:\n",
    "                for event in batch_events:\n",
    "                    message = {\n",
    "                        'event_id': event['event_id'],\n",
    "                        \"car_plate\": event['car_plate'],\n",
    "                        \"camera_id\": event['camera_id'],\n",
    "                        \"timestamp\": event['timestamp'],\n",
    "                        \"speed_reading\": float(event['speed_reading']),\n",
    "                        \"producer\": \"C\"\n",
    "                    }\n",
    "                    publish_message(producer, topic, event['event_id'], dumps(message))\n",
    "                producer.flush()\n",
    "                print(f'Batch {current_batch} published successfully.')\n",
    "                sleep(5)\n",
    "\n",
    "                current_batch = row['batch_id']\n",
    "                batch_events = []\n",
    "\n",
    "            batch_events.append(row)\n",
    "\n",
    "        if batch_events:\n",
    "            for event in batch_events:\n",
    "                message = {\n",
    "                    'event_id': event['event_id'],\n",
    "                    \"car_plate\": event['car_plate'],\n",
    "                    \"camera_id\": event['camera_id'],\n",
    "                    \"timestamp\": event['timestamp'],\n",
    "                    \"speed_reading\": float(event['speed_reading']),\n",
    "                    \"producer\": \"C\"\n",
    "                }\n",
    "                publish_message(producer, topic, event['event_id'], dumps(message))\n",
    "            producer.flush()\n",
    "            print(f'Final batch {current_batch} published successfully.')\n",
    "\n",
    "    print('All messages published successfully.')"
   ]
  },
  {
   "cell_type": "code",
   "execution_count": null,
   "id": "56909890",
   "metadata": {},
   "outputs": [],
   "source": []
  }
 ],
 "metadata": {
  "kernelspec": {
   "display_name": "Python 3 (ipykernel)",
   "language": "python",
   "name": "python3"
  },
  "language_info": {
   "codemirror_mode": {
    "name": "ipython",
    "version": 3
   },
   "file_extension": ".py",
   "mimetype": "text/x-python",
   "name": "python",
   "nbconvert_exporter": "python",
   "pygments_lexer": "ipython3",
   "version": "3.8.16"
  }
 },
 "nbformat": 4,
 "nbformat_minor": 5
}
